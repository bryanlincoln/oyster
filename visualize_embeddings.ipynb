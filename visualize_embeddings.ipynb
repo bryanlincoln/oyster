{
 "cells": [
  {
   "cell_type": "code",
   "execution_count": 73,
   "metadata": {},
   "outputs": [],
   "source": [
    "import pandas as pd\n",
    "import os\n",
    "import numpy as np\n",
    "import plotly.express as px\n",
    "import ast\n",
    "from sklearn.decomposition import PCA\n",
    "import seaborn as sn\n",
    "import matplotlib.pyplot as plt\n",
    "from pylab import rcParams\n",
    "\n",
    "TRAIN = \"Train\"\n",
    "EVAL = \"Eval\""
   ]
  },
  {
   "cell_type": "code",
   "execution_count": 43,
   "metadata": {},
   "outputs": [],
   "source": [
    "def embeddings_pca(embeddings_df, n_components=3):\n",
    "    pca = PCA(n_components=n_components)\n",
    "    pca.fit(embeddings_df)\n",
    "    print('Components:', pca.components_)\n",
    "    print('Explained variance', pca.explained_variance_)\n",
    "    print('Explained variance ratio', pca.explained_variance_ratio_)\n",
    "    embeddings = pca.transform(embeddings_df)\n",
    "    return embeddings"
   ]
  },
  {
   "cell_type": "code",
   "execution_count": 84,
   "metadata": {},
   "outputs": [],
   "source": [
    "def plot_corr(embeddings, labels, experiment_name):\n",
    "    tasks = np.array([\n",
    "        label[task_param]\n",
    "        for label in labels\n",
    "    ])\n",
    "    tasks_embeddings = np.concatenate((embeddings, tasks), axis=1)\n",
    "    columns = [\"pca_{}\".format(i) for i in range(3)]\n",
    "    columns += [\"task_{}\".format(i) for i in range(3)]\n",
    "    tasks_embeddings_df = pd.DataFrame(data=tasks_embeddings, columns=columns)\n",
    "    ax = sn.heatmap(tasks_embeddings_df.corr(), annot=True)\n",
    "    ax.set_ylim(0, 6)\n",
    "    plt.title(experiment_name)\n",
    "    plt.savefig('images/{}_corr.png'.format(experiment_name))\n",
    "    plt.clf()"
   ]
  },
  {
   "cell_type": "code",
   "execution_count": 2,
   "metadata": {},
   "outputs": [],
   "source": [
    "def plott(embeddings, labels, title='', task_param='velocity', show_labels=False, n_components=3):\n",
    "    stages = np.array([\n",
    "        TRAIN if label['stage'] == 'train' else EVAL \n",
    "        for label in labels\n",
    "    ])\n",
    "    tasks = np.array([\n",
    "        float(\"{0:.2f}\".format(\n",
    "            #label[task_param][0]\n",
    "            np.linalg.norm(np.array(label[task_param]) - np.array([0, 0.85, 0.175])) if type(label[task_param]) is list else label[task_param]\n",
    "        ))\n",
    "        for label in labels\n",
    "    ])\n",
    "\n",
    "    if n_components == 3:\n",
    "        fig = px.scatter_3d(embeddings, x=0, y=1, z=2, color=tasks, symbol=stages)\n",
    "    else:\n",
    "        fig = px.scatter(embeddings, x=0, y=1, color=tasks, symbol=stages)\n",
    "\n",
    "    fig.update_layout(\n",
    "        title=title,\n",
    "        legend=dict(x=-.1, y=-.1)\n",
    "    )\n",
    "    fig.show()"
   ]
  },
  {
   "cell_type": "code",
   "execution_count": 45,
   "metadata": {},
   "outputs": [],
   "source": [
    "def plott2d(embeddings, labels, title='', task_param='velocity', show_labels=False, n_components=3, task_ax=0, pca_ax=0):\n",
    "    stages = np.array([\n",
    "        TRAIN if label['stage'] == 'train' else EVAL \n",
    "        for label in labels\n",
    "    ])\n",
    "    tasks = np.array([\n",
    "        float(\"{0:.2f}\".format(\n",
    "            label[task_param][task_ax]\n",
    "            #np.linalg.norm(np.array(label[task_param]) - np.array([0, 0.85, 0.175])) if type(label[task_param]) is list else label[task_param]\n",
    "        ))\n",
    "        for label in labels\n",
    "    ])\n",
    "\n",
    "    fig = px.scatter(embeddings, x=pca_ax, y=[0]*len(embeddings), color=tasks, symbol=stages)\n",
    "\n",
    "    fig.update_layout(\n",
    "        title='{} - Color: Task[{}], X: PCA[{}]'.format(title, task_ax, pca_ax),\n",
    "        legend=dict(x=-.1, y=-.1)\n",
    "    )\n",
    "    #fig.show()\n",
    "    fig.write_image(\"images/{}_task{}_pca{}.png\".format(title, task_ax, pca_ax))"
   ]
  },
  {
   "cell_type": "code",
   "execution_count": 7,
   "metadata": {},
   "outputs": [
    {
     "output_type": "stream",
     "name": "stdout",
     "text": "0 output/cheetah-vel/2020_02_16_00_49_55/embeddings\n1 output/cheetah-vel/2020_02_17_18_09_55/embeddings\n2 output/cheetah-vel/2020_03_03_16_20_26/embeddings\n3 output/cheetah-vel/2020_03_04_17_23_41/embeddings\n4 output/cheetah-vel/2020_03_05_23_41_01/embeddings\n5 output/cheetah-vel/2020_03_06_13_23_33/embeddings\n6 output/cheetah-vel/2020_03_07_23_12_39/embeddings\n7 output/cheetah-vel/2020_03_17_00_33_59/embeddings\n8 output/cheetah-vel/2020_03_26_04_30_37/embeddings\n9 output/cheetah-vel/2020_03_26_04_34_42/embeddings\n10 output/cheetah-vel/2020_03_27_00_51_58/embeddings\n11 output/reach-ml1/2020_04_09_01_49_41-baseline-3adapt/embeddings\n12 output/reach-ml1/2020_04_15_22_29_42-baseline/embeddings\n13 output/reach-ml1/2020_04_18_23_23_57-baseline-ood/embeddings\n14 output/reach-ml1/2020_04_18_23_25_34-rwscale/embeddings\n15 output/reach-ml1/2020_04_21_15_12_49-l2-ood/embeddings\n16 output/reach-ml1/2020_04_21_15_13_40-intobs-ood/embeddings\n17 output/reach-ml1/2020_04_23_11_14_21-intctx-ood/embeddings\n18 output/reach-ml1/2020_04_23_13_48_31-intctx/embeddings\n19 output/reach-ml1/2020_04_25_13_48_34-l2/embeddings\n20 output/reach-ml1/2020_04_27_14_07_46-l2-ood/embeddings\n21 output/reach-ml1/2020_04_30_10_47_22-l2/embeddings\n"
    }
   ],
   "source": [
    "experiments = []\n",
    "\n",
    "for dirname, _, _ in os.walk('output'):\n",
    "    if 'embeddings' in dirname.split('/')[-1]:\n",
    "        experiments.append(dirname)\n",
    "\n",
    "experiments.sort()\n",
    "for i, experiment in enumerate(experiments):\n",
    "    print(i, experiment)"
   ]
  },
  {
   "cell_type": "code",
   "execution_count": 8,
   "metadata": {},
   "outputs": [],
   "source": [
    "results = [\n",
    "    #(0, 'Int. Obs 1', 'velocity'),\n",
    "    #(1, 'Int. Ctx 1', 'velocity'),\n",
    "    #(2, 'PEARL 1', 'velocity'),\n",
    "    #(3, 'PEARL 2', 'velocity'),\n",
    "    #(4, 'Int. Ctx 2', 'velocity'),\n",
    "    #(5, 'Ctx Only Grads', 'velocity'),\n",
    "    #(6, 'Int. Ctx 3', 'velocity'),\n",
    "    #(7, 'Int. Ctx 4', 'velocity'),\n",
    "    #(8, 'L2 0.1', 'velocity'),\n",
    "    #(9, 'Dropout', 'velocity'),    \n",
    "    #(10, 'L2 0.01 1', 'velocity', '00002'),\n",
    "    #(11, 'L2 0.01 2', 'velocity'),\n",
    "    #(12, 'PEARL 3 (Small)', 'velocity'),\n",
    "    #(3, 'Reach Normalized', 'goal')\n",
    "    ('output/reach-ml1/2020_04_15_22_29_42-baseline/embeddings', 'PEARL', 'goal_pos', '00010'),\n",
    "    #(13, 'PEARL OOD', 'goal_pos', '00010'),\n",
    "    #(14, 'Scale', 'goal_pos', '00010'),\n",
    "    #(15, 'L2 0.01', 'goal_pos', '00010'),\n",
    "    #(16, 'Int Obs OOD', 'goal_pos', '00010'),\n",
    "    #(17, 'Int Ctx OOD', 'goal_pos', '00010'), # curiosity (ctx) out of dist on reach\n",
    "    ('output/reach-ml1/2020_04_23_13_48_31-intctx/embeddings', 'Int Ctx', 'goal_pos', '00010'),\n",
    "    ('output/reach-ml1/2020_04_25_13_48_34-l2/embeddings', 'L2 0.01', 'goal_pos', '00010'),\n",
    "    #$(20, 'L2 0.01 OOD', 'goal_pos', '00010'), # L2 reg on encoder out of dist on reach\n",
    "]"
   ]
  },
  {
   "cell_type": "code",
   "execution_count": 85,
   "metadata": {},
   "outputs": [
    {
     "output_type": "stream",
     "name": "stdout",
     "text": "Components: [[-0.24414917  0.09506505 -0.584323   -0.24569766  0.727704  ]\n [-0.1456495   0.96721772  0.20172689 -0.0426437  -0.02763844]\n [ 0.10027842 -0.06026502  0.13221682 -0.96786067 -0.17909999]]\nExplained variance [2.99468788 0.80821656 0.6081793 ]\nExplained variance ratio [0.61223592 0.16523232 0.12433657]\nComponents: [[ 0.98111415  0.14195567 -0.03669324 -0.11067091  0.06057366]\n [ 0.12348262 -0.09874998 -0.26265017  0.70519692 -0.6393064 ]\n [-0.01999897 -0.3416119  -0.63079597 -0.59991737 -0.35369045]]\nExplained variance [2.72069513 0.64874588 0.3863943 ]\nExplained variance ratio [0.66389429 0.15830465 0.09428656]\nComponents: [[ 0.01612984 -0.01103843 -0.99745077 -0.05973832 -0.03378269]\n [ 0.00103422 -0.04507441 -0.02592041 -0.11930039  0.99149522]\n [ 0.41340009 -0.88146223  0.00323001  0.2279153  -0.01299535]]\nExplained variance [5.4585277  0.57507157 0.44890502]\nExplained variance ratio [0.8143309  0.0857921  0.06696993]\n"
    },
    {
     "output_type": "display_data",
     "data": {
      "text/plain": "<Figure size 720x720 with 0 Axes>"
     },
     "metadata": {}
    }
   ],
   "source": [
    "mat = None\n",
    "for experiment_path, experiment_name, task_param, adapt_index in results:\n",
    "    path = os.path.join(experiment_path, adapt_index)\n",
    "    embeddings_df = pd.read_csv(os.path.join(path, 'default/tensors.tsv'), sep='\\t', header=None)\n",
    "    labels_df = pd.read_csv(os.path.join(path, 'default/metadata.tsv'), sep='\\t', header=None)\n",
    "\n",
    "    embeddings = embeddings_pca(embeddings_df)\n",
    "    labels = [ast.literal_eval(label.replace(\"array(\", \"\").replace(\", dtype=float32)\", \"\")) for label in labels_df[0].array]\n",
    "    plot_corr(embeddings, labels, experiment_name)\n",
    "\n",
    "    for task_ax in range(3):\n",
    "        pca_tasks = None\n",
    "        for pca_ax in range(3):\n",
    "            plott2d(embeddings, labels, title=experiment_name, task_param=task_param, show_labels=False, task_ax=task_ax, pca_ax=pca_ax)"
   ]
  }
 ],
 "metadata": {
  "kernelspec": {
   "display_name": "Python 3.6.9 64-bit ('rl': conda)",
   "language": "python",
   "name": "python36964bitrlconda118b18de538d4e91aec0aaa4e288196a"
  },
  "language_info": {
   "codemirror_mode": {
    "name": "ipython",
    "version": 3
   },
   "file_extension": ".py",
   "mimetype": "text/x-python",
   "name": "python",
   "nbconvert_exporter": "python",
   "pygments_lexer": "ipython3",
   "version": "3.6.9-final"
  }
 },
 "nbformat": 4,
 "nbformat_minor": 4
}