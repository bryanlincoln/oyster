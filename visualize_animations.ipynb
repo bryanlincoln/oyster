{
 "cells": [
  {
   "cell_type": "code",
   "execution_count": 1,
   "metadata": {},
   "outputs": [],
   "source": [
    "import pandas as pd\n",
    "import os\n",
    "import numpy as np\n",
    "import plotly.express as px\n",
    "import ast\n",
    "from sklearn.decomposition import PCA\n",
    "import seaborn as sn\n",
    "import matplotlib.pyplot as plt\n",
    "from pylab import rcParams\n",
    "import pickle\n",
    "\n",
    "TRAIN = \"Train\"\n",
    "EVAL = \"Eval\""
   ]
  },
  {
   "cell_type": "code",
   "execution_count": 2,
   "metadata": {},
   "outputs": [],
   "source": [
    "def embeddings_pca(embeddings_df, n_components=3):\n",
    "    pca = PCA(n_components=n_components)\n",
    "    pca.fit(embeddings_df)\n",
    "    #print('Components:', pca.components_)\n",
    "    #print('Explained variance', pca.explained_variance_)\n",
    "    #print('Explained variance ratio', pca.explained_variance_ratio_)\n",
    "    embeddings = pca.transform(embeddings_df)\n",
    "    return embeddings"
   ]
  },
  {
   "cell_type": "code",
   "execution_count": 12,
   "metadata": {},
   "outputs": [],
   "source": [
    "def plott(embeddings, labels, title='', task_param='velocity', show_labels=False, n_components=3, xrange=None, yrange=None):\n",
    "    stages = np.array([\n",
    "        TRAIN if label['stage'] == 'train' else EVAL \n",
    "        for label in labels\n",
    "    ])\n",
    "    tasks = np.array([\n",
    "        float(\"{0:.2f}\".format(\n",
    "            np.linalg.norm(label[task_param] - np.array([0, 0.85, 0.175]))\n",
    "        ))\n",
    "        for label in labels\n",
    "    ])\n",
    "\n",
    "    if n_components == 3:\n",
    "        fig = px.scatter_3d(embeddings, x=0, y=1, z=2, color=tasks, symbol=stages)\n",
    "    else:\n",
    "        fig = px.scatter(embeddings, x=0, y=1, color=tasks, symbol=stages)\n",
    "\n",
    "    fig.update_layout(\n",
    "        title=title,\n",
    "        xaxis_range=xrange,\n",
    "        yaxis_range=yrange,\n",
    "        legend=dict(x=-.1, y=-.1)\n",
    "    )\n",
    "    fig.show()\n",
    "    #fig.write_image(\"images/{}.png\".format(title))"
   ]
  },
  {
   "cell_type": "code",
   "execution_count": 4,
   "metadata": {
    "tags": [
     "outputPrepend"
    ]
   },
   "outputs": [
    {
     "output_type": "stream",
     "name": "stdout",
     "text": "0 output/cheetah-vel/2020_02_16_00_49_55-intobs/embeddings\n1 output/cheetah-vel/2020_02_17_18_09_55-intctx/embeddings\n2 output/cheetah-vel/2020_03_03_16_20_26-baseline/embeddings\n3 output/cheetah-vel/2020_03_04_17_23_41-baseline/embeddings\n4 output/cheetah-vel/2020_03_05_23_41_01-intctx/embeddings\n5 output/cheetah-vel/2020_03_06_13_23_33-ctxgrads/embeddings\n6 output/cheetah-vel/2020_03_07_23_12_39-intctx/embeddings\n7 output/cheetah-vel/2020_03_17_00_33_59-intctx/embeddings\n8 output/cheetah-vel/2020_03_26_04_30_37-l2-01/embeddings\n9 output/cheetah-vel/2020_03_26_04_34_42-dropout/embeddings\n10 output/cheetah-vel/2020_03_27_00_51_58-l2/embeddings\n11 output/reach-ml1/2020_04_09_01_49_41-baseline-3adapt/embeddings\n12 output/reach-ml1/2020_04_15_22_29_42-baseline/embeddings\n13 output/reach-ml1/2020_04_18_23_23_57-baseline-ood/embeddings\n14 output/reach-ml1/2020_04_18_23_25_34-rwscale/embeddings\n15 output/reach-ml1/2020_04_21_15_12_49-l2-ood/embeddings\n16 output/reach-ml1/2020_04_21_15_13_40-intobs-ood/embeddings\n17 output/reach-ml1/2020_04_23_11_14_21-intctx-ood/embeddings\n18 output/reach-ml1/2020_04_23_13_48_31-intctx/embeddings\n19 output/reach-ml1/2020_04_25_13_48_34-l2/embeddings\n20 output/reach-ml1/2020_04_27_14_07_46-l2-ood/embeddings\n21 output/reach-ml1/2020_04_30_10_47_22-l2/embeddings\n22 output/reach-ml1/2020_05_15_12_07_44-baseline/embeddings\n23 output/reach-ml1/2020_05_15_12_08_37-l2/embeddings\n24 output/reach-ml1/2020_05_15_12_09_16-latent15/embeddings\n25 output/reach-ml1/2020_05_21_12_06_15/embeddings\n26 output/reach-ml1/2020_05_21_12_07_10/embeddings\n"
    }
   ],
   "source": [
    "experiments = []\n",
    "\n",
    "for dirname, _, _ in os.walk('output'):\n",
    "    if 'embeddings' in dirname.split('/')[-1]:\n",
    "        experiments.append(dirname)\n",
    "\n",
    "experiments.sort()\n",
    "for i, experiment in enumerate(experiments):\n",
    "    print(i, experiment)"
   ]
  },
  {
   "cell_type": "code",
   "execution_count": 8,
   "metadata": {},
   "outputs": [],
   "source": [
    "results = [\n",
    "    #(0, 'Int. Obs 1', 'velocity'),\n",
    "    #(1, 'Int. Ctx 1', 'velocity'),\n",
    "    #(2, 'PEARL 1', 'velocity'),\n",
    "    #(3, 'PEARL 2', 'velocity'),\n",
    "    #(4, 'Int. Ctx 2', 'velocity'),\n",
    "    #(5, 'Ctx Only Grads', 'velocity'),\n",
    "    #(6, 'Int. Ctx 3', 'velocity'),\n",
    "    #(7, 'Int. Ctx 4', 'velocity'),\n",
    "    #(8, 'L2 0.1', 'velocity'),\n",
    "    #(9, 'Dropout', 'velocity'),    \n",
    "    #(10, 'L2 0.01 1', 'velocity', '00002'),\n",
    "    #(11, 'L2 0.01 2', 'velocity'),\n",
    "    #(12, 'PEARL 3 (Small)', 'velocity'),\n",
    "    #(3, 'Reach Normalized', 'goal')\n",
    "    #('output/reach-ml1/2020_04_15_22_29_42-baseline/embeddings', 'PEARL', 'goal_pos', '00010'),\n",
    "    #(13, 'PEARL OOD', 'goal_pos', '00010'),\n",
    "    #(14, 'Scale', 'goal_pos', '00010'),\n",
    "    #(15, 'L2 0.01', 'goal_pos', '00010'),\n",
    "    #(16, 'Int Obs OOD', 'goal_pos', '00010'),\n",
    "    #(17, 'Int Ctx OOD', 'goal_pos', '00010'), # curiosity (ctx) out of dist on reach\n",
    "    #('output/reach-ml1/2020_04_23_13_48_31-intctx', 'Int Ctx', 'goal_pos', '00010'),\n",
    "    #('output/reach-ml1/2020_04_25_13_48_34-l2', 'L2 0.01', 'goal_pos', '00010'),\n",
    "    #$(20, 'L2 0.01 OOD', 'goal_pos', '00010'), # L2 reg on encoder out of dist on reach,\n",
    "    #('output/reach-ml1/2020_05_15_12_07_44-baseline/', 'Baseline', 'goal_pos', '00010'),\n",
    "    ('output/reach-ml1/2020_05_21_12_06_15', 'PEARL', 'goal_pos', '00010'),\n",
    "    ('output/reach-ml1/2020_05_21_12_07_10', 'L2', 'goal_pos', '00010'),\n",
    "]"
   ]
  },
  {
   "cell_type": "code",
   "execution_count": 14,
   "metadata": {
    "tags": [
     "outputPrepend"
    ]
   },
   "outputs": [
    {
     "output_type": "display_data",
     "data": {
      "application/vnd.plotly.v1+json": {
       "config": {
        "plotlyServerURL": "https://plot.ly"
       },
       "data": [
        {
         "hoverlabel": {
          "namelength": 0
         },
         "hovertemplate": "symbol=Train<br>0=%{x}<br>1=%{y}<br>color=%{marker.color}",
         "legendgroup": "symbol=Train",
         "marker": {
          "color": [
           0.11,
           0.11,
           0.11,
           0.11,
           0.04,
           0.04,
           0.04,
           0.04,
           0.08,
           0.08,
           0.08,
           0.08,
           0.08,
           0.08,
           0.08,
           0.08,
           0.11,
           0.11,
           0.11,
           0.11,
           0.11,
           0.11,
           0.11,
           0.11,
           0.08,
           0.08,
           0.08,
           0.08,
           0.11,
           0.11,
           0.11,
           0.11,
           0.06,
           0.06,
           0.06,
           0.06,
           0.05,
           0.05,
           0.05,
           0.05
          ],
          "coloraxis": "coloraxis",
          "symbol": "circle"
         },
         "mode": "markers",
         "name": "symbol=Train",
         "showlegend": true,
         "type": "scatter",
         "x": [
          -3.004430055618286,
          -2.9170947074890137,
          -3.1824564933776855,
          -3.000333309173584,
          -0.7508865594863892,
          -0.6090219020843506,
          -0.6343683004379272,
          -0.8104469776153564,
          -1.3673956394195557,
          -2.5866997241973877,
          -2.8561785221099854,
          -2.157733917236328,
          -2.177461862564087,
          -2.463792324066162,
          -2.184882640838623,
          -2.1483144760131836,
          -3.2731621265411377,
          -3.577131986618042,
          -2.8784351348876953,
          -3.8889594078063965,
          -2.4033589363098145,
          -1.7829606533050537,
          -2.9959115982055664,
          -0.4566095471382141,
          -1.2955106496810913,
          -1.1929906606674194,
          -1.4179162979125977,
          -1.546804428100586,
          -0.5691867470741272,
          -0.5075507164001465,
          -0.4474024772644043,
          -1.9975769519805908,
          -4.48089599609375,
          -3.6941189765930176,
          -4.190843105316162,
          -2.02034592628479,
          -2.3746628761291504,
          -1.843105435371399,
          -3.0103821754455566,
          -3.4076826572418213
         ],
         "xaxis": "x",
         "y": [
          0.4641786217689514,
          0.1496681421995163,
          0.16957837343215942,
          0.41364842653274536,
          0.3400188982486725,
          0.1013803631067276,
          0.20722730457782745,
          0.07203799486160278,
          0.4428466856479645,
          0.08480450510978699,
          3.833021879196167,
          0.3148162066936493,
          3.0484371185302734,
          0.3575068712234497,
          0.38840076327323914,
          3.686729907989502,
          -0.2699218690395355,
          0.5713596343994141,
          -0.10194110125303268,
          -0.49086880683898926,
          0.8535273671150208,
          0.0070672123692929745,
          -0.4605814218521118,
          -0.1718573272228241,
          1.2170448303222656,
          1.2565537691116333,
          1.461602807044983,
          1.474035382270813,
          0.00931271631270647,
          -0.11698035150766373,
          -0.15542937815189362,
          -0.008296662010252476,
          -1.246602177619934,
          -1.0728461742401123,
          -1.1822965145111084,
          -0.1099228635430336,
          -0.0341842845082283,
          1.0117383003234863,
          -0.5136855244636536,
          -0.6478286385536194
         ],
         "yaxis": "y"
        },
        {
         "hoverlabel": {
          "namelength": 0
         },
         "hovertemplate": "symbol=Eval<br>0=%{x}<br>1=%{y}<br>color=%{marker.color}",
         "legendgroup": "symbol=Eval",
         "marker": {
          "color": [
           0.14,
           0.14,
           0.14,
           0.14,
           0.14,
           0.14,
           0.14,
           0.14,
           0.04,
           0.04,
           0.04,
           0.04,
           0.12,
           0.12,
           0.12,
           0.12,
           0.1,
           0.1,
           0.1,
           0.1,
           0.09,
           0.09,
           0.09,
           0.09,
           0.08,
           0.08,
           0.08,
           0.08,
           0.1,
           0.1,
           0.1,
           0.1,
           0.1,
           0.1,
           0.1,
           0.1,
           0.1,
           0.1,
           0.1,
           0.1
          ],
          "coloraxis": "coloraxis",
          "symbol": "diamond"
         },
         "mode": "markers",
         "name": "symbol=Eval",
         "showlegend": true,
         "type": "scatter",
         "x": [
          -2.888873338699341,
          -3.054697275161743,
          -3.3068788051605225,
          -3.221073627471924,
          -3.4591023921966553,
          -3.2018675804138184,
          -3.639172077178955,
          -2.743330955505371,
          -1.1897822618484497,
          -3.4622416496276855,
          -1.9742923974990845,
          -1.0792231559753418,
          -3.1635732650756836,
          -3.8730552196502686,
          -2.933568239212036,
          -2.3970725536346436,
          -0.6991899609565735,
          -0.39199814200401306,
          -0.4503837525844574,
          -2.0899980068206787,
          -1.829528570175171,
          -3.15769100189209,
          -3.363532066345215,
          -1.9028915166854858,
          -2.5846965312957764,
          -2.526136875152588,
          -1.3232430219650269,
          -1.1117031574249268,
          -2.2903342247009277,
          -3.2311720848083496,
          -0.489845871925354,
          -0.39411357045173645,
          -2.894742012023926,
          -0.6128641963005066,
          -5.415699005126953,
          -3.1016149520874023,
          -3.3439505100250244,
          -3.9030890464782715,
          -1.9559675455093384,
          -4.23427677154541
         ],
         "xaxis": "x",
         "y": [
          0.29248476028442383,
          -0.2847616970539093,
          0.8580631613731384,
          0.6462773084640503,
          -0.3090788424015045,
          0.06546195596456528,
          -0.7545526623725891,
          -0.31206655502319336,
          0.0044875857420265675,
          -0.859009861946106,
          -0.0958947017788887,
          0.06502015143632889,
          1.5773394107818604,
          0.8942761421203613,
          1.1305545568466187,
          0.822319746017456,
          -0.5826728343963623,
          -0.11571607738733292,
          -0.05760614201426506,
          -0.13223370909690857,
          -0.25009724497795105,
          1.1425352096557617,
          3.0012407302856445,
          -0.15653325617313385,
          0.031162811443209648,
          0.3074014186859131,
          1.0523008108139038,
          0.9552359580993652,
          0.33172136545181274,
          -0.09959748387336731,
          -0.06132975220680237,
          -0.12576404213905334,
          1.5994873046875,
          -0.11416862905025482,
          4.074249267578125,
          1.666836142539978,
          0.47255635261535645,
          0.296991765499115,
          0.3684775233268738,
          0.35259535908699036
         ],
         "yaxis": "y"
        }
       ],
       "layout": {
        "coloraxis": {
         "colorbar": {
          "title": {
           "text": "color"
          }
         },
         "colorscale": [
          [
           0,
           "#0d0887"
          ],
          [
           0.1111111111111111,
           "#46039f"
          ],
          [
           0.2222222222222222,
           "#7201a8"
          ],
          [
           0.3333333333333333,
           "#9c179e"
          ],
          [
           0.4444444444444444,
           "#bd3786"
          ],
          [
           0.5555555555555556,
           "#d8576b"
          ],
          [
           0.6666666666666666,
           "#ed7953"
          ],
          [
           0.7777777777777778,
           "#fb9f3a"
          ],
          [
           0.8888888888888888,
           "#fdca26"
          ],
          [
           1,
           "#f0f921"
          ]
         ]
        },
        "height": 600,
        "legend": {
         "tracegroupgap": 0,
         "x": -0.1,
         "y": -0.1
        },
        "margin": {
         "t": 60
        },
        "template": {
         "data": {
          "bar": [
           {
            "error_x": {
             "color": "#2a3f5f"
            },
            "error_y": {
             "color": "#2a3f5f"
            },
            "marker": {
             "line": {
              "color": "#E5ECF6",
              "width": 0.5
             }
            },
            "type": "bar"
           }
          ],
          "barpolar": [
           {
            "marker": {
             "line": {
              "color": "#E5ECF6",
              "width": 0.5
             }
            },
            "type": "barpolar"
           }
          ],
          "carpet": [
           {
            "aaxis": {
             "endlinecolor": "#2a3f5f",
             "gridcolor": "white",
             "linecolor": "white",
             "minorgridcolor": "white",
             "startlinecolor": "#2a3f5f"
            },
            "baxis": {
             "endlinecolor": "#2a3f5f",
             "gridcolor": "white",
             "linecolor": "white",
             "minorgridcolor": "white",
             "startlinecolor": "#2a3f5f"
            },
            "type": "carpet"
           }
          ],
          "choropleth": [
           {
            "colorbar": {
             "outlinewidth": 0,
             "ticks": ""
            },
            "type": "choropleth"
           }
          ],
          "contour": [
           {
            "colorbar": {
             "outlinewidth": 0,
             "ticks": ""
            },
            "colorscale": [
             [
              0,
              "#0d0887"
             ],
             [
              0.1111111111111111,
              "#46039f"
             ],
             [
              0.2222222222222222,
              "#7201a8"
             ],
             [
              0.3333333333333333,
              "#9c179e"
             ],
             [
              0.4444444444444444,
              "#bd3786"
             ],
             [
              0.5555555555555556,
              "#d8576b"
             ],
             [
              0.6666666666666666,
              "#ed7953"
             ],
             [
              0.7777777777777778,
              "#fb9f3a"
             ],
             [
              0.8888888888888888,
              "#fdca26"
             ],
             [
              1,
              "#f0f921"
             ]
            ],
            "type": "contour"
           }
          ],
          "contourcarpet": [
           {
            "colorbar": {
             "outlinewidth": 0,
             "ticks": ""
            },
            "type": "contourcarpet"
           }
          ],
          "heatmap": [
           {
            "colorbar": {
             "outlinewidth": 0,
             "ticks": ""
            },
            "colorscale": [
             [
              0,
              "#0d0887"
             ],
             [
              0.1111111111111111,
              "#46039f"
             ],
             [
              0.2222222222222222,
              "#7201a8"
             ],
             [
              0.3333333333333333,
              "#9c179e"
             ],
             [
              0.4444444444444444,
              "#bd3786"
             ],
             [
              0.5555555555555556,
              "#d8576b"
             ],
             [
              0.6666666666666666,
              "#ed7953"
             ],
             [
              0.7777777777777778,
              "#fb9f3a"
             ],
             [
              0.8888888888888888,
              "#fdca26"
             ],
             [
              1,
              "#f0f921"
             ]
            ],
            "type": "heatmap"
           }
          ],
          "heatmapgl": [
           {
            "colorbar": {
             "outlinewidth": 0,
             "ticks": ""
            },
            "colorscale": [
             [
              0,
              "#0d0887"
             ],
             [
              0.1111111111111111,
              "#46039f"
             ],
             [
              0.2222222222222222,
              "#7201a8"
             ],
             [
              0.3333333333333333,
              "#9c179e"
             ],
             [
              0.4444444444444444,
              "#bd3786"
             ],
             [
              0.5555555555555556,
              "#d8576b"
             ],
             [
              0.6666666666666666,
              "#ed7953"
             ],
             [
              0.7777777777777778,
              "#fb9f3a"
             ],
             [
              0.8888888888888888,
              "#fdca26"
             ],
             [
              1,
              "#f0f921"
             ]
            ],
            "type": "heatmapgl"
           }
          ],
          "histogram": [
           {
            "marker": {
             "colorbar": {
              "outlinewidth": 0,
              "ticks": ""
             }
            },
            "type": "histogram"
           }
          ],
          "histogram2d": [
           {
            "colorbar": {
             "outlinewidth": 0,
             "ticks": ""
            },
            "colorscale": [
             [
              0,
              "#0d0887"
             ],
             [
              0.1111111111111111,
              "#46039f"
             ],
             [
              0.2222222222222222,
              "#7201a8"
             ],
             [
              0.3333333333333333,
              "#9c179e"
             ],
             [
              0.4444444444444444,
              "#bd3786"
             ],
             [
              0.5555555555555556,
              "#d8576b"
             ],
             [
              0.6666666666666666,
              "#ed7953"
             ],
             [
              0.7777777777777778,
              "#fb9f3a"
             ],
             [
              0.8888888888888888,
              "#fdca26"
             ],
             [
              1,
              "#f0f921"
             ]
            ],
            "type": "histogram2d"
           }
          ],
          "histogram2dcontour": [
           {
            "colorbar": {
             "outlinewidth": 0,
             "ticks": ""
            },
            "colorscale": [
             [
              0,
              "#0d0887"
             ],
             [
              0.1111111111111111,
              "#46039f"
             ],
             [
              0.2222222222222222,
              "#7201a8"
             ],
             [
              0.3333333333333333,
              "#9c179e"
             ],
             [
              0.4444444444444444,
              "#bd3786"
             ],
             [
              0.5555555555555556,
              "#d8576b"
             ],
             [
              0.6666666666666666,
              "#ed7953"
             ],
             [
              0.7777777777777778,
              "#fb9f3a"
             ],
             [
              0.8888888888888888,
              "#fdca26"
             ],
             [
              1,
              "#f0f921"
             ]
            ],
            "type": "histogram2dcontour"
           }
          ],
          "mesh3d": [
           {
            "colorbar": {
             "outlinewidth": 0,
             "ticks": ""
            },
            "type": "mesh3d"
           }
          ],
          "parcoords": [
           {
            "line": {
             "colorbar": {
              "outlinewidth": 0,
              "ticks": ""
             }
            },
            "type": "parcoords"
           }
          ],
          "pie": [
           {
            "automargin": true,
            "type": "pie"
           }
          ],
          "scatter": [
           {
            "marker": {
             "colorbar": {
              "outlinewidth": 0,
              "ticks": ""
             }
            },
            "type": "scatter"
           }
          ],
          "scatter3d": [
           {
            "line": {
             "colorbar": {
              "outlinewidth": 0,
              "ticks": ""
             }
            },
            "marker": {
             "colorbar": {
              "outlinewidth": 0,
              "ticks": ""
             }
            },
            "type": "scatter3d"
           }
          ],
          "scattercarpet": [
           {
            "marker": {
             "colorbar": {
              "outlinewidth": 0,
              "ticks": ""
             }
            },
            "type": "scattercarpet"
           }
          ],
          "scattergeo": [
           {
            "marker": {
             "colorbar": {
              "outlinewidth": 0,
              "ticks": ""
             }
            },
            "type": "scattergeo"
           }
          ],
          "scattergl": [
           {
            "marker": {
             "colorbar": {
              "outlinewidth": 0,
              "ticks": ""
             }
            },
            "type": "scattergl"
           }
          ],
          "scattermapbox": [
           {
            "marker": {
             "colorbar": {
              "outlinewidth": 0,
              "ticks": ""
             }
            },
            "type": "scattermapbox"
           }
          ],
          "scatterpolar": [
           {
            "marker": {
             "colorbar": {
              "outlinewidth": 0,
              "ticks": ""
             }
            },
            "type": "scatterpolar"
           }
          ],
          "scatterpolargl": [
           {
            "marker": {
             "colorbar": {
              "outlinewidth": 0,
              "ticks": ""
             }
            },
            "type": "scatterpolargl"
           }
          ],
          "scatterternary": [
           {
            "marker": {
             "colorbar": {
              "outlinewidth": 0,
              "ticks": ""
             }
            },
            "type": "scatterternary"
           }
          ],
          "surface": [
           {
            "colorbar": {
             "outlinewidth": 0,
             "ticks": ""
            },
            "colorscale": [
             [
              0,
              "#0d0887"
             ],
             [
              0.1111111111111111,
              "#46039f"
             ],
             [
              0.2222222222222222,
              "#7201a8"
             ],
             [
              0.3333333333333333,
              "#9c179e"
             ],
             [
              0.4444444444444444,
              "#bd3786"
             ],
             [
              0.5555555555555556,
              "#d8576b"
             ],
             [
              0.6666666666666666,
              "#ed7953"
             ],
             [
              0.7777777777777778,
              "#fb9f3a"
             ],
             [
              0.8888888888888888,
              "#fdca26"
             ],
             [
              1,
              "#f0f921"
             ]
            ],
            "type": "surface"
           }
          ],
          "table": [
           {
            "cells": {
             "fill": {
              "color": "#EBF0F8"
             },
             "line": {
              "color": "white"
             }
            },
            "header": {
             "fill": {
              "color": "#C8D4E3"
             },
             "line": {
              "color": "white"
             }
            },
            "type": "table"
           }
          ]
         },
         "layout": {
          "annotationdefaults": {
           "arrowcolor": "#2a3f5f",
           "arrowhead": 0,
           "arrowwidth": 1
          },
          "coloraxis": {
           "colorbar": {
            "outlinewidth": 0,
            "ticks": ""
           }
          },
          "colorscale": {
           "diverging": [
            [
             0,
             "#8e0152"
            ],
            [
             0.1,
             "#c51b7d"
            ],
            [
             0.2,
             "#de77ae"
            ],
            [
             0.3,
             "#f1b6da"
            ],
            [
             0.4,
             "#fde0ef"
            ],
            [
             0.5,
             "#f7f7f7"
            ],
            [
             0.6,
             "#e6f5d0"
            ],
            [
             0.7,
             "#b8e186"
            ],
            [
             0.8,
             "#7fbc41"
            ],
            [
             0.9,
             "#4d9221"
            ],
            [
             1,
             "#276419"
            ]
           ],
           "sequential": [
            [
             0,
             "#0d0887"
            ],
            [
             0.1111111111111111,
             "#46039f"
            ],
            [
             0.2222222222222222,
             "#7201a8"
            ],
            [
             0.3333333333333333,
             "#9c179e"
            ],
            [
             0.4444444444444444,
             "#bd3786"
            ],
            [
             0.5555555555555556,
             "#d8576b"
            ],
            [
             0.6666666666666666,
             "#ed7953"
            ],
            [
             0.7777777777777778,
             "#fb9f3a"
            ],
            [
             0.8888888888888888,
             "#fdca26"
            ],
            [
             1,
             "#f0f921"
            ]
           ],
           "sequentialminus": [
            [
             0,
             "#0d0887"
            ],
            [
             0.1111111111111111,
             "#46039f"
            ],
            [
             0.2222222222222222,
             "#7201a8"
            ],
            [
             0.3333333333333333,
             "#9c179e"
            ],
            [
             0.4444444444444444,
             "#bd3786"
            ],
            [
             0.5555555555555556,
             "#d8576b"
            ],
            [
             0.6666666666666666,
             "#ed7953"
            ],
            [
             0.7777777777777778,
             "#fb9f3a"
            ],
            [
             0.8888888888888888,
             "#fdca26"
            ],
            [
             1,
             "#f0f921"
            ]
           ]
          },
          "colorway": [
           "#636efa",
           "#EF553B",
           "#00cc96",
           "#ab63fa",
           "#FFA15A",
           "#19d3f3",
           "#FF6692",
           "#B6E880",
           "#FF97FF",
           "#FECB52"
          ],
          "font": {
           "color": "#2a3f5f"
          },
          "geo": {
           "bgcolor": "white",
           "lakecolor": "white",
           "landcolor": "#E5ECF6",
           "showlakes": true,
           "showland": true,
           "subunitcolor": "white"
          },
          "hoverlabel": {
           "align": "left"
          },
          "hovermode": "closest",
          "mapbox": {
           "style": "light"
          },
          "paper_bgcolor": "white",
          "plot_bgcolor": "#E5ECF6",
          "polar": {
           "angularaxis": {
            "gridcolor": "white",
            "linecolor": "white",
            "ticks": ""
           },
           "bgcolor": "#E5ECF6",
           "radialaxis": {
            "gridcolor": "white",
            "linecolor": "white",
            "ticks": ""
           }
          },
          "scene": {
           "xaxis": {
            "backgroundcolor": "#E5ECF6",
            "gridcolor": "white",
            "gridwidth": 2,
            "linecolor": "white",
            "showbackground": true,
            "ticks": "",
            "zerolinecolor": "white"
           },
           "yaxis": {
            "backgroundcolor": "#E5ECF6",
            "gridcolor": "white",
            "gridwidth": 2,
            "linecolor": "white",
            "showbackground": true,
            "ticks": "",
            "zerolinecolor": "white"
           },
           "zaxis": {
            "backgroundcolor": "#E5ECF6",
            "gridcolor": "white",
            "gridwidth": 2,
            "linecolor": "white",
            "showbackground": true,
            "ticks": "",
            "zerolinecolor": "white"
           }
          },
          "shapedefaults": {
           "line": {
            "color": "#2a3f5f"
           }
          },
          "ternary": {
           "aaxis": {
            "gridcolor": "white",
            "linecolor": "white",
            "ticks": ""
           },
           "baxis": {
            "gridcolor": "white",
            "linecolor": "white",
            "ticks": ""
           },
           "bgcolor": "#E5ECF6",
           "caxis": {
            "gridcolor": "white",
            "linecolor": "white",
            "ticks": ""
           }
          },
          "title": {
           "x": 0.05
          },
          "xaxis": {
           "automargin": true,
           "gridcolor": "white",
           "linecolor": "white",
           "ticks": "",
           "title": {
            "standoff": 15
           },
           "zerolinecolor": "white",
           "zerolinewidth": 2
          },
          "yaxis": {
           "automargin": true,
           "gridcolor": "white",
           "linecolor": "white",
           "ticks": "",
           "title": {
            "standoff": 15
           },
           "zerolinecolor": "white",
           "zerolinewidth": 2
          }
         }
        },
        "title": {
         "text": "PEARL epoch 1209"
        },
        "xaxis": {
         "anchor": "y",
         "domain": [
          0,
          1
         ],
         "range": [
          -15.415699005126953,
          9.608001857995987
         ],
         "title": {
          "text": "0"
         }
        },
        "yaxis": {
         "anchor": "x",
         "domain": [
          0,
          1
         ],
         "range": [
          -11.246602177619934,
          14.074249267578125
         ],
         "title": {
          "text": "1"
         }
        }
       }
      }
     },
     "metadata": {}
    },
    {
     "output_type": "display_data",
     "data": {
      "application/vnd.plotly.v1+json": {
       "config": {
        "plotlyServerURL": "https://plot.ly"
       },
       "data": [
        {
         "hoverlabel": {
          "namelength": 0
         },
         "hovertemplate": "symbol=Train<br>0=%{x}<br>1=%{y}<br>color=%{marker.color}",
         "legendgroup": "symbol=Train",
         "marker": {
          "color": [
           0.11,
           0.11,
           0.11,
           0.11,
           0.11,
           0.11,
           0.11,
           0.11,
           0.08,
           0.08,
           0.08,
           0.08,
           0.12,
           0.12,
           0.12,
           0.12,
           0.1,
           0.1,
           0.1,
           0.1,
           0.07,
           0.07,
           0.07,
           0.07,
           0.12,
           0.12,
           0.12,
           0.12,
           0.14,
           0.14,
           0.14,
           0.14,
           0.12,
           0.12,
           0.12,
           0.12,
           0.08,
           0.08,
           0.08,
           0.08
          ],
          "coloraxis": "coloraxis",
          "symbol": "circle"
         },
         "mode": "markers",
         "name": "symbol=Train",
         "showlegend": true,
         "type": "scatter",
         "x": [
          -5.251271724700928,
          -5.307809352874756,
          -5.340996742248535,
          -5.104950428009033,
          -5.23994779586792,
          -5.3183488845825195,
          -5.427071571350098,
          -5.313992977142334,
          -5.346755504608154,
          -5.34820556640625,
          -5.280282020568848,
          -5.367171764373779,
          -5.155815601348877,
          -4.974828243255615,
          -5.106934070587158,
          -5.144664287567139,
          -5.556640148162842,
          -5.254947662353516,
          -5.386529922485352,
          -4.919325351715088,
          -5.430939674377441,
          -5.670405387878418,
          -5.587771415710449,
          -5.66547155380249,
          -4.6795454025268555,
          -4.960434913635254,
          -5.059534072875977,
          -5.026994228363037,
          -5.312683582305908,
          -5.3185248374938965,
          -4.573021411895752,
          -5.036350727081299,
          -4.902281284332275,
          -4.729766845703125,
          -5.290395259857178,
          -4.514209270477295,
          -5.042267322540283,
          -4.861856937408447,
          -4.699943542480469,
          -5.311100959777832
         ],
         "xaxis": "x",
         "y": [
          -2.0641872882843018,
          -2.0406510829925537,
          -1.9134019613265991,
          -2.207069158554077,
          -2.000248908996582,
          -2.126438617706299,
          -2.1983964443206787,
          -2.012169122695923,
          -1.4618782997131348,
          -2.019524574279785,
          -2.059758186340332,
          -1.825148344039917,
          -1.3082256317138672,
          -2.088604688644409,
          -2.014988660812378,
          -1.4816551208496094,
          -2.193032741546631,
          -2.3411571979522705,
          -2.7158336639404297,
          -1.9863803386688232,
          -2.590087652206421,
          -2.2326269149780273,
          -2.276212692260742,
          -1.9587035179138184,
          -2.543067455291748,
          -2.191650390625,
          -2.073094606399536,
          -1.7828987836837769,
          -1.9632799625396729,
          -1.952425241470337,
          -1.7282989025115967,
          -2.2838761806488037,
          -1.6418519020080566,
          -2.0807623863220215,
          -1.3651355504989624,
          -2.4682092666625977,
          -1.9030245542526245,
          -2.5278475284576416,
          -2.527221441268921,
          -1.3026580810546875
         ],
         "yaxis": "y"
        },
        {
         "hoverlabel": {
          "namelength": 0
         },
         "hovertemplate": "symbol=Eval<br>0=%{x}<br>1=%{y}<br>color=%{marker.color}",
         "legendgroup": "symbol=Eval",
         "marker": {
          "color": [
           0.09,
           0.09,
           0.09,
           0.09,
           0.08,
           0.08,
           0.08,
           0.08,
           0.05,
           0.05,
           0.05,
           0.05,
           0.06,
           0.06,
           0.06,
           0.06,
           0.08,
           0.08,
           0.08,
           0.08,
           0.12,
           0.12,
           0.12,
           0.12,
           0.1,
           0.1,
           0.1,
           0.1,
           0.09,
           0.09,
           0.09,
           0.09,
           0.06,
           0.06,
           0.06,
           0.06,
           0.05,
           0.05,
           0.05,
           0.05
          ],
          "coloraxis": "coloraxis",
          "symbol": "diamond"
         },
         "mode": "markers",
         "name": "symbol=Eval",
         "showlegend": true,
         "type": "scatter",
         "x": [
          -5.501348495483398,
          -5.505568981170654,
          -5.5322370529174805,
          -5.515476226806641,
          -5.586785793304443,
          -5.5287394523620605,
          -5.654603004455566,
          -5.640364170074463,
          -5.2214579582214355,
          -5.24087381362915,
          -5.185985565185547,
          -5.086151599884033,
          -5.687000274658203,
          -5.725519180297852,
          -5.604592323303223,
          -5.69766092300415,
          -5.541561603546143,
          -5.55109977722168,
          -5.256035804748535,
          -5.5063157081604,
          -5.269820690155029,
          -5.064040184020996,
          -4.924285411834717,
          -5.1862382888793945,
          -5.457577705383301,
          -5.215078353881836,
          -4.987187385559082,
          -5.460683822631836,
          -5.512052059173584,
          -5.584870338439941,
          -5.159257888793945,
          -5.525376796722412,
          -5.631643295288086,
          -5.3659443855285645,
          -5.686885833740234,
          -5.713774681091309,
          -5.032298564910889,
          -5.061108589172363,
          -4.989371299743652,
          -5.328792095184326
         ],
         "xaxis": "x",
         "y": [
          -2.1220908164978027,
          -2.195955991744995,
          -2.2653696537017822,
          -2.3402633666992188,
          -2.431471109390259,
          -2.399090051651001,
          -2.0180273056030273,
          -2.0036585330963135,
          -2.7123403549194336,
          -2.427137851715088,
          -2.6307191848754883,
          -2.6346147060394287,
          -2.1274423599243164,
          -2.4304182529449463,
          -2.6358439922332764,
          -2.3282244205474854,
          -2.3989601135253906,
          -2.330758571624756,
          -2.056372880935669,
          -2.500276565551758,
          -2.7191367149353027,
          -1.9775750637054443,
          -1.922294020652771,
          -2.0088651180267334,
          -1.7859339714050293,
          -2.140414237976074,
          -2.2140002250671387,
          -1.9078664779663086,
          -2.2154364585876465,
          -2.1132781505584717,
          -0.8431812524795532,
          -2.1171646118164062,
          -2.5401735305786133,
          -2.5971155166625977,
          -2.3319289684295654,
          -2.228109359741211,
          -1.971713900566101,
          -2.738651752471924,
          -2.0505714416503906,
          -2.491159200668335
         ],
         "yaxis": "y"
        }
       ],
       "layout": {
        "coloraxis": {
         "colorbar": {
          "title": {
           "text": "color"
          }
         },
         "colorscale": [
          [
           0,
           "#0d0887"
          ],
          [
           0.1111111111111111,
           "#46039f"
          ],
          [
           0.2222222222222222,
           "#7201a8"
          ],
          [
           0.3333333333333333,
           "#9c179e"
          ],
          [
           0.4444444444444444,
           "#bd3786"
          ],
          [
           0.5555555555555556,
           "#d8576b"
          ],
          [
           0.6666666666666666,
           "#ed7953"
          ],
          [
           0.7777777777777778,
           "#fb9f3a"
          ],
          [
           0.8888888888888888,
           "#fdca26"
          ],
          [
           1,
           "#f0f921"
          ]
         ]
        },
        "height": 600,
        "legend": {
         "tracegroupgap": 0,
         "x": -0.1,
         "y": -0.1
        },
        "margin": {
         "t": 60
        },
        "template": {
         "data": {
          "bar": [
           {
            "error_x": {
             "color": "#2a3f5f"
            },
            "error_y": {
             "color": "#2a3f5f"
            },
            "marker": {
             "line": {
              "color": "#E5ECF6",
              "width": 0.5
             }
            },
            "type": "bar"
           }
          ],
          "barpolar": [
           {
            "marker": {
             "line": {
              "color": "#E5ECF6",
              "width": 0.5
             }
            },
            "type": "barpolar"
           }
          ],
          "carpet": [
           {
            "aaxis": {
             "endlinecolor": "#2a3f5f",
             "gridcolor": "white",
             "linecolor": "white",
             "minorgridcolor": "white",
             "startlinecolor": "#2a3f5f"
            },
            "baxis": {
             "endlinecolor": "#2a3f5f",
             "gridcolor": "white",
             "linecolor": "white",
             "minorgridcolor": "white",
             "startlinecolor": "#2a3f5f"
            },
            "type": "carpet"
           }
          ],
          "choropleth": [
           {
            "colorbar": {
             "outlinewidth": 0,
             "ticks": ""
            },
            "type": "choropleth"
           }
          ],
          "contour": [
           {
            "colorbar": {
             "outlinewidth": 0,
             "ticks": ""
            },
            "colorscale": [
             [
              0,
              "#0d0887"
             ],
             [
              0.1111111111111111,
              "#46039f"
             ],
             [
              0.2222222222222222,
              "#7201a8"
             ],
             [
              0.3333333333333333,
              "#9c179e"
             ],
             [
              0.4444444444444444,
              "#bd3786"
             ],
             [
              0.5555555555555556,
              "#d8576b"
             ],
             [
              0.6666666666666666,
              "#ed7953"
             ],
             [
              0.7777777777777778,
              "#fb9f3a"
             ],
             [
              0.8888888888888888,
              "#fdca26"
             ],
             [
              1,
              "#f0f921"
             ]
            ],
            "type": "contour"
           }
          ],
          "contourcarpet": [
           {
            "colorbar": {
             "outlinewidth": 0,
             "ticks": ""
            },
            "type": "contourcarpet"
           }
          ],
          "heatmap": [
           {
            "colorbar": {
             "outlinewidth": 0,
             "ticks": ""
            },
            "colorscale": [
             [
              0,
              "#0d0887"
             ],
             [
              0.1111111111111111,
              "#46039f"
             ],
             [
              0.2222222222222222,
              "#7201a8"
             ],
             [
              0.3333333333333333,
              "#9c179e"
             ],
             [
              0.4444444444444444,
              "#bd3786"
             ],
             [
              0.5555555555555556,
              "#d8576b"
             ],
             [
              0.6666666666666666,
              "#ed7953"
             ],
             [
              0.7777777777777778,
              "#fb9f3a"
             ],
             [
              0.8888888888888888,
              "#fdca26"
             ],
             [
              1,
              "#f0f921"
             ]
            ],
            "type": "heatmap"
           }
          ],
          "heatmapgl": [
           {
            "colorbar": {
             "outlinewidth": 0,
             "ticks": ""
            },
            "colorscale": [
             [
              0,
              "#0d0887"
             ],
             [
              0.1111111111111111,
              "#46039f"
             ],
             [
              0.2222222222222222,
              "#7201a8"
             ],
             [
              0.3333333333333333,
              "#9c179e"
             ],
             [
              0.4444444444444444,
              "#bd3786"
             ],
             [
              0.5555555555555556,
              "#d8576b"
             ],
             [
              0.6666666666666666,
              "#ed7953"
             ],
             [
              0.7777777777777778,
              "#fb9f3a"
             ],
             [
              0.8888888888888888,
              "#fdca26"
             ],
             [
              1,
              "#f0f921"
             ]
            ],
            "type": "heatmapgl"
           }
          ],
          "histogram": [
           {
            "marker": {
             "colorbar": {
              "outlinewidth": 0,
              "ticks": ""
             }
            },
            "type": "histogram"
           }
          ],
          "histogram2d": [
           {
            "colorbar": {
             "outlinewidth": 0,
             "ticks": ""
            },
            "colorscale": [
             [
              0,
              "#0d0887"
             ],
             [
              0.1111111111111111,
              "#46039f"
             ],
             [
              0.2222222222222222,
              "#7201a8"
             ],
             [
              0.3333333333333333,
              "#9c179e"
             ],
             [
              0.4444444444444444,
              "#bd3786"
             ],
             [
              0.5555555555555556,
              "#d8576b"
             ],
             [
              0.6666666666666666,
              "#ed7953"
             ],
             [
              0.7777777777777778,
              "#fb9f3a"
             ],
             [
              0.8888888888888888,
              "#fdca26"
             ],
             [
              1,
              "#f0f921"
             ]
            ],
            "type": "histogram2d"
           }
          ],
          "histogram2dcontour": [
           {
            "colorbar": {
             "outlinewidth": 0,
             "ticks": ""
            },
            "colorscale": [
             [
              0,
              "#0d0887"
             ],
             [
              0.1111111111111111,
              "#46039f"
             ],
             [
              0.2222222222222222,
              "#7201a8"
             ],
             [
              0.3333333333333333,
              "#9c179e"
             ],
             [
              0.4444444444444444,
              "#bd3786"
             ],
             [
              0.5555555555555556,
              "#d8576b"
             ],
             [
              0.6666666666666666,
              "#ed7953"
             ],
             [
              0.7777777777777778,
              "#fb9f3a"
             ],
             [
              0.8888888888888888,
              "#fdca26"
             ],
             [
              1,
              "#f0f921"
             ]
            ],
            "type": "histogram2dcontour"
           }
          ],
          "mesh3d": [
           {
            "colorbar": {
             "outlinewidth": 0,
             "ticks": ""
            },
            "type": "mesh3d"
           }
          ],
          "parcoords": [
           {
            "line": {
             "colorbar": {
              "outlinewidth": 0,
              "ticks": ""
             }
            },
            "type": "parcoords"
           }
          ],
          "pie": [
           {
            "automargin": true,
            "type": "pie"
           }
          ],
          "scatter": [
           {
            "marker": {
             "colorbar": {
              "outlinewidth": 0,
              "ticks": ""
             }
            },
            "type": "scatter"
           }
          ],
          "scatter3d": [
           {
            "line": {
             "colorbar": {
              "outlinewidth": 0,
              "ticks": ""
             }
            },
            "marker": {
             "colorbar": {
              "outlinewidth": 0,
              "ticks": ""
             }
            },
            "type": "scatter3d"
           }
          ],
          "scattercarpet": [
           {
            "marker": {
             "colorbar": {
              "outlinewidth": 0,
              "ticks": ""
             }
            },
            "type": "scattercarpet"
           }
          ],
          "scattergeo": [
           {
            "marker": {
             "colorbar": {
              "outlinewidth": 0,
              "ticks": ""
             }
            },
            "type": "scattergeo"
           }
          ],
          "scattergl": [
           {
            "marker": {
             "colorbar": {
              "outlinewidth": 0,
              "ticks": ""
             }
            },
            "type": "scattergl"
           }
          ],
          "scattermapbox": [
           {
            "marker": {
             "colorbar": {
              "outlinewidth": 0,
              "ticks": ""
             }
            },
            "type": "scattermapbox"
           }
          ],
          "scatterpolar": [
           {
            "marker": {
             "colorbar": {
              "outlinewidth": 0,
              "ticks": ""
             }
            },
            "type": "scatterpolar"
           }
          ],
          "scatterpolargl": [
           {
            "marker": {
             "colorbar": {
              "outlinewidth": 0,
              "ticks": ""
             }
            },
            "type": "scatterpolargl"
           }
          ],
          "scatterternary": [
           {
            "marker": {
             "colorbar": {
              "outlinewidth": 0,
              "ticks": ""
             }
            },
            "type": "scatterternary"
           }
          ],
          "surface": [
           {
            "colorbar": {
             "outlinewidth": 0,
             "ticks": ""
            },
            "colorscale": [
             [
              0,
              "#0d0887"
             ],
             [
              0.1111111111111111,
              "#46039f"
             ],
             [
              0.2222222222222222,
              "#7201a8"
             ],
             [
              0.3333333333333333,
              "#9c179e"
             ],
             [
              0.4444444444444444,
              "#bd3786"
             ],
             [
              0.5555555555555556,
              "#d8576b"
             ],
             [
              0.6666666666666666,
              "#ed7953"
             ],
             [
              0.7777777777777778,
              "#fb9f3a"
             ],
             [
              0.8888888888888888,
              "#fdca26"
             ],
             [
              1,
              "#f0f921"
             ]
            ],
            "type": "surface"
           }
          ],
          "table": [
           {
            "cells": {
             "fill": {
              "color": "#EBF0F8"
             },
             "line": {
              "color": "white"
             }
            },
            "header": {
             "fill": {
              "color": "#C8D4E3"
             },
             "line": {
              "color": "white"
             }
            },
            "type": "table"
           }
          ]
         },
         "layout": {
          "annotationdefaults": {
           "arrowcolor": "#2a3f5f",
           "arrowhead": 0,
           "arrowwidth": 1
          },
          "coloraxis": {
           "colorbar": {
            "outlinewidth": 0,
            "ticks": ""
           }
          },
          "colorscale": {
           "diverging": [
            [
             0,
             "#8e0152"
            ],
            [
             0.1,
             "#c51b7d"
            ],
            [
             0.2,
             "#de77ae"
            ],
            [
             0.3,
             "#f1b6da"
            ],
            [
             0.4,
             "#fde0ef"
            ],
            [
             0.5,
             "#f7f7f7"
            ],
            [
             0.6,
             "#e6f5d0"
            ],
            [
             0.7,
             "#b8e186"
            ],
            [
             0.8,
             "#7fbc41"
            ],
            [
             0.9,
             "#4d9221"
            ],
            [
             1,
             "#276419"
            ]
           ],
           "sequential": [
            [
             0,
             "#0d0887"
            ],
            [
             0.1111111111111111,
             "#46039f"
            ],
            [
             0.2222222222222222,
             "#7201a8"
            ],
            [
             0.3333333333333333,
             "#9c179e"
            ],
            [
             0.4444444444444444,
             "#bd3786"
            ],
            [
             0.5555555555555556,
             "#d8576b"
            ],
            [
             0.6666666666666666,
             "#ed7953"
            ],
            [
             0.7777777777777778,
             "#fb9f3a"
            ],
            [
             0.8888888888888888,
             "#fdca26"
            ],
            [
             1,
             "#f0f921"
            ]
           ],
           "sequentialminus": [
            [
             0,
             "#0d0887"
            ],
            [
             0.1111111111111111,
             "#46039f"
            ],
            [
             0.2222222222222222,
             "#7201a8"
            ],
            [
             0.3333333333333333,
             "#9c179e"
            ],
            [
             0.4444444444444444,
             "#bd3786"
            ],
            [
             0.5555555555555556,
             "#d8576b"
            ],
            [
             0.6666666666666666,
             "#ed7953"
            ],
            [
             0.7777777777777778,
             "#fb9f3a"
            ],
            [
             0.8888888888888888,
             "#fdca26"
            ],
            [
             1,
             "#f0f921"
            ]
           ]
          },
          "colorway": [
           "#636efa",
           "#EF553B",
           "#00cc96",
           "#ab63fa",
           "#FFA15A",
           "#19d3f3",
           "#FF6692",
           "#B6E880",
           "#FF97FF",
           "#FECB52"
          ],
          "font": {
           "color": "#2a3f5f"
          },
          "geo": {
           "bgcolor": "white",
           "lakecolor": "white",
           "landcolor": "#E5ECF6",
           "showlakes": true,
           "showland": true,
           "subunitcolor": "white"
          },
          "hoverlabel": {
           "align": "left"
          },
          "hovermode": "closest",
          "mapbox": {
           "style": "light"
          },
          "paper_bgcolor": "white",
          "plot_bgcolor": "#E5ECF6",
          "polar": {
           "angularaxis": {
            "gridcolor": "white",
            "linecolor": "white",
            "ticks": ""
           },
           "bgcolor": "#E5ECF6",
           "radialaxis": {
            "gridcolor": "white",
            "linecolor": "white",
            "ticks": ""
           }
          },
          "scene": {
           "xaxis": {
            "backgroundcolor": "#E5ECF6",
            "gridcolor": "white",
            "gridwidth": 2,
            "linecolor": "white",
            "showbackground": true,
            "ticks": "",
            "zerolinecolor": "white"
           },
           "yaxis": {
            "backgroundcolor": "#E5ECF6",
            "gridcolor": "white",
            "gridwidth": 2,
            "linecolor": "white",
            "showbackground": true,
            "ticks": "",
            "zerolinecolor": "white"
           },
           "zaxis": {
            "backgroundcolor": "#E5ECF6",
            "gridcolor": "white",
            "gridwidth": 2,
            "linecolor": "white",
            "showbackground": true,
            "ticks": "",
            "zerolinecolor": "white"
           }
          },
          "shapedefaults": {
           "line": {
            "color": "#2a3f5f"
           }
          },
          "ternary": {
           "aaxis": {
            "gridcolor": "white",
            "linecolor": "white",
            "ticks": ""
           },
           "baxis": {
            "gridcolor": "white",
            "linecolor": "white",
            "ticks": ""
           },
           "bgcolor": "#E5ECF6",
           "caxis": {
            "gridcolor": "white",
            "linecolor": "white",
            "ticks": ""
           }
          },
          "title": {
           "x": 0.05
          },
          "xaxis": {
           "automargin": true,
           "gridcolor": "white",
           "linecolor": "white",
           "ticks": "",
           "title": {
            "standoff": 15
           },
           "zerolinecolor": "white",
           "zerolinewidth": 2
          },
          "yaxis": {
           "automargin": true,
           "gridcolor": "white",
           "linecolor": "white",
           "ticks": "",
           "title": {
            "standoff": 15
           },
           "zerolinecolor": "white",
           "zerolinewidth": 2
          }
         }
        },
        "title": {
         "text": "L2 epoch 1209"
        },
        "xaxis": {
         "anchor": "y",
         "domain": [
          0,
          1
         ],
         "range": [
          -15.725519180297852,
          5.485790729522705
         ],
         "title": {
          "text": "0"
         }
        },
        "yaxis": {
         "anchor": "x",
         "domain": [
          0,
          1
         ],
         "range": [
          -12.738651752471924,
          9.156818747520447
         ],
         "title": {
          "text": "1"
         }
        }
       }
      }
     },
     "metadata": {}
    }
   ],
   "source": [
    "for experiment_path, experiment_name, task_param, adapt_index in results:\n",
    "    embeddings = []\n",
    "    for filename in os.listdir(experiment_path):\n",
    "        if 'embeddings_' in filename:\n",
    "            embeddings.append(os.path.join(experiment_path, filename))\n",
    "    embeddings.sort(key=lambda x: float(x.split('_')[-1].split('.')[0]))\n",
    "\n",
    "    frames = []\n",
    "    all_embeddings = None\n",
    "    for embedding in embeddings:\n",
    "        file = open(embedding, 'rb')\n",
    "        data = pickle.load(file) # {'embeddings', 'labels', 'tasks', 'num_train_tasks', 'epoch'}\n",
    "        # [train + eval tasks, evals, rollouts, embeddings] -> [tasks+evals+rollouts, embedding]\n",
    "        if len(data['embeddings'].shape) > 3:\n",
    "            data['embeddings'] = np.transpose(data['embeddings'], (2, 0, 1, 3))\n",
    "            data['embeddings'] = np.reshape(data['embeddings'], (\n",
    "                data['embeddings'].shape[0], # rollouts\n",
    "                -1, # stack all eval embeddings, task over task\n",
    "                data['embeddings'].shape[3], # embedding dimension\n",
    "            ))\n",
    "        data['embeddings'] = data['embeddings'][-1] # use only last rollout\n",
    "        frames.append(data)\n",
    "        if all_embeddings is None:\n",
    "            all_embeddings = data['embeddings']\n",
    "        else:\n",
    "            all_embeddings = np.concatenate((all_embeddings, data['embeddings']), axis=0)\n",
    "\n",
    "    pca = PCA(n_components=2)\n",
    "    pca.fit(all_embeddings)\n",
    "\n",
    "    #xrange = [10000000, -10000000]\n",
    "    #yrange = [10000000, -10000000]\n",
    "    for i, frame in enumerate(frames):\n",
    "        frames[i]['embeddings'] = pca.transform(frame['embeddings'])\n",
    "\n",
    "        # xrange = [\n",
    "        #     np.min([ xrange[0], np.min(frames[i]['embeddings'][:, 0]) ]),\n",
    "        #     np.max([ xrange[1], np.max(frames[i]['embeddings'][:, 0]) ])\n",
    "        # ]\n",
    "        # yrange = [\n",
    "        #     np.min([ yrange[0], np.min(frames[i]['embeddings'][:, 1]) ]),\n",
    "        #     np.max([ yrange[1], np.max(frames[i]['embeddings'][:, 1]) ])\n",
    "        # ]\n",
    "\n",
    "    # xrange = [\n",
    "    #     np.min(frames[-1]['embeddings'][:, 0]) - 10, \n",
    "    #     np.max(frames[-1]['embeddings'][:, 0]) + 10\n",
    "    # ]\n",
    "    # yrange = [\n",
    "    #     np.min(frames[-1]['embeddings'][:, 1]) - 10,\n",
    "    #     np.max(frames[-1]['embeddings'][:, 1]) + 10\n",
    "    # ]\n",
    "    alpha = 0.5\n",
    "    for frame in frames:\n",
    "        xrange = [\n",
    "            np.min(frame['embeddings'][:, 0]), \n",
    "            np.max(frame['embeddings'][:, 0])\n",
    "        ]\n",
    "        yrange = [\n",
    "            np.min(frame['embeddings'][:, 1]),\n",
    "            np.max(frame['embeddings'][:, 1])\n",
    "        ]\n",
    "        if frame['epoch'] != 1209:\n",
    "            continue\n",
    "        # xrange = [\n",
    "        #     np.min(frames[i]['embeddings'][:, 0]) + alpha * xrange[0],\n",
    "        #     np.max(frames[i]['embeddings'][:, 0]) + alpha * xrange[1]\n",
    "        # ]\n",
    "        # yrange = [\n",
    "        #     np.min(frames[i]['embeddings'][:, 1]) + alpha * yrange[0],\n",
    "        #     np.max(frames[i]['embeddings'][:, 1]) + alpha * yrange[1]\n",
    "        # ] \n",
    "\n",
    "        plott(\n",
    "            frame['embeddings'], \n",
    "            frame['labels'], \n",
    "            title=experiment_name + ' epoch {}'.format(frame['epoch']), \n",
    "            task_param=task_param, \n",
    "            show_labels=False,\n",
    "            n_components=2,\n",
    "            xrange=xrange,\n",
    "            yrange=yrange\n",
    "        )"
   ]
  },
  {
   "cell_type": "code",
   "execution_count": null,
   "metadata": {},
   "outputs": [],
   "source": []
  }
 ],
 "metadata": {
  "kernelspec": {
   "display_name": "Python 3.6.9 64-bit ('rl': conda)",
   "language": "python",
   "name": "python36964bitrlconda118b18de538d4e91aec0aaa4e288196a"
  },
  "language_info": {
   "codemirror_mode": {
    "name": "ipython",
    "version": 3
   },
   "file_extension": ".py",
   "mimetype": "text/x-python",
   "name": "python",
   "nbconvert_exporter": "python",
   "pygments_lexer": "ipython3",
   "version": "3.6.9-final"
  }
 },
 "nbformat": 4,
 "nbformat_minor": 4
}