{
 "cells": [
  {
   "cell_type": "code",
   "execution_count": 1,
   "metadata": {},
   "outputs": [],
   "source": [
    "import pandas as pd\n",
    "import os\n",
    "import numpy as np\n",
    "import plotly.express as px\n",
    "import ast\n",
    "from sklearn.decomposition import PCA\n",
    "import seaborn as sn\n",
    "import matplotlib.pyplot as plt\n",
    "from pylab import rcParams\n",
    "import pickle\n",
    "\n",
    "TRAIN = \"Train\"\n",
    "EVAL = \"Eval\""
   ]
  },
  {
   "cell_type": "code",
   "execution_count": 32,
   "metadata": {},
   "outputs": [],
   "source": [
    "def embeddings_pca(embeddings_df, n_components=3):\n",
    "    pca = PCA(n_components=n_components)\n",
    "    pca.fit(embeddings_df)\n",
    "    #print('Components:', pca.components_)\n",
    "    #print('Explained variance', pca.explained_variance_)\n",
    "    #print('Explained variance ratio', pca.explained_variance_ratio_)\n",
    "    embeddings = pca.transform(embeddings_df)\n",
    "    return embeddings"
   ]
  },
  {
   "cell_type": "code",
   "execution_count": 40,
   "metadata": {},
   "outputs": [],
   "source": [
    "def plott(embeddings, labels, title='', task_param='velocity', show_labels=False, n_components=3, xrange=None, yrange=None):\n",
    "    stages = np.array([\n",
    "        TRAIN if label['stage'] == 'train' else EVAL \n",
    "        for label in labels\n",
    "    ])\n",
    "    tasks = np.array([\n",
    "        float(\"{0:.2f}\".format(\n",
    "            np.linalg.norm(label[task_param] - np.array([0, 0.85, 0.175]))\n",
    "        ))\n",
    "        for label in labels\n",
    "    ])\n",
    "\n",
    "    if n_components == 3:\n",
    "        fig = px.scatter_3d(embeddings, x=0, y=1, z=2, color=tasks, symbol=stages)\n",
    "    else:\n",
    "        fig = px.scatter(embeddings, x=0, y=1, color=tasks, symbol=stages)\n",
    "\n",
    "    fig.update_layout(\n",
    "        title=title,\n",
    "        xaxis_range=xrange,\n",
    "        yaxis_range=yrange,\n",
    "        legend=dict(x=-.1, y=-.1)\n",
    "    )\n",
    "    #fig.show()\n",
    "    fig.write_image(\"images/{}.png\".format(title))"
   ]
  },
  {
   "cell_type": "code",
   "execution_count": 4,
   "metadata": {
    "tags": [
     "outputPrepend"
    ]
   },
   "outputs": [
    {
     "output_type": "stream",
     "name": "stdout",
     "text": "0 output/cheetah-vel/2020_02_16_00_49_55/embeddings\n1 output/cheetah-vel/2020_02_17_18_09_55/embeddings\n2 output/cheetah-vel/2020_03_03_16_20_26/embeddings\n3 output/cheetah-vel/2020_03_04_17_23_41/embeddings\n4 output/cheetah-vel/2020_03_05_23_41_01/embeddings\n5 output/cheetah-vel/2020_03_06_13_23_33/embeddings\n6 output/cheetah-vel/2020_03_07_23_12_39/embeddings\n7 output/cheetah-vel/2020_03_17_00_33_59/embeddings\n8 output/cheetah-vel/2020_03_26_04_30_37/embeddings\n9 output/cheetah-vel/2020_03_26_04_34_42/embeddings\n10 output/cheetah-vel/2020_03_27_00_51_58/embeddings\n11 output/reach-ml1/2020_04_09_01_49_41-baseline-3adapt/embeddings\n12 output/reach-ml1/2020_04_15_22_29_42-baseline/embeddings\n13 output/reach-ml1/2020_04_18_23_23_57-baseline-ood/embeddings\n14 output/reach-ml1/2020_04_18_23_25_34-rwscale/embeddings\n15 output/reach-ml1/2020_04_21_15_12_49-l2-ood/embeddings\n16 output/reach-ml1/2020_04_21_15_13_40-intobs-ood/embeddings\n17 output/reach-ml1/2020_04_23_11_14_21-intctx-ood/embeddings\n18 output/reach-ml1/2020_04_23_13_48_31-intctx/embeddings\n19 output/reach-ml1/2020_04_25_13_48_34-l2/embeddings\n20 output/reach-ml1/2020_04_27_14_07_46-l2-ood/embeddings\n21 output/reach-ml1/2020_04_30_10_47_22-l2/embeddings\n22 output/reach-ml1/2020_05_15_12_07_44-baseline/embeddings\n23 output/reach-ml1/2020_05_15_12_08_37-l2/embeddings\n24 output/reach-ml1/2020_05_15_12_09_16-latent15/embeddings\n"
    }
   ],
   "source": [
    "experiments = []\n",
    "\n",
    "for dirname, _, _ in os.walk('output'):\n",
    "    if 'embeddings' in dirname.split('/')[-1]:\n",
    "        experiments.append(dirname)\n",
    "\n",
    "experiments.sort()\n",
    "for i, experiment in enumerate(experiments):\n",
    "    print(i, experiment)"
   ]
  },
  {
   "cell_type": "code",
   "execution_count": 43,
   "metadata": {},
   "outputs": [],
   "source": [
    "results = [\n",
    "    #(0, 'Int. Obs 1', 'velocity'),\n",
    "    #(1, 'Int. Ctx 1', 'velocity'),\n",
    "    #(2, 'PEARL 1', 'velocity'),\n",
    "    #(3, 'PEARL 2', 'velocity'),\n",
    "    #(4, 'Int. Ctx 2', 'velocity'),\n",
    "    #(5, 'Ctx Only Grads', 'velocity'),\n",
    "    #(6, 'Int. Ctx 3', 'velocity'),\n",
    "    #(7, 'Int. Ctx 4', 'velocity'),\n",
    "    #(8, 'L2 0.1', 'velocity'),\n",
    "    #(9, 'Dropout', 'velocity'),    \n",
    "    #(10, 'L2 0.01 1', 'velocity', '00002'),\n",
    "    #(11, 'L2 0.01 2', 'velocity'),\n",
    "    #(12, 'PEARL 3 (Small)', 'velocity'),\n",
    "    #(3, 'Reach Normalized', 'goal')\n",
    "    #('output/reach-ml1/2020_04_15_22_29_42-baseline/embeddings', 'PEARL', 'goal_pos', '00010'),\n",
    "    #(13, 'PEARL OOD', 'goal_pos', '00010'),\n",
    "    #(14, 'Scale', 'goal_pos', '00010'),\n",
    "    #(15, 'L2 0.01', 'goal_pos', '00010'),\n",
    "    #(16, 'Int Obs OOD', 'goal_pos', '00010'),\n",
    "    #(17, 'Int Ctx OOD', 'goal_pos', '00010'), # curiosity (ctx) out of dist on reach\n",
    "    #('output/reach-ml1/2020_04_23_13_48_31-intctx', 'Int Ctx', 'goal_pos', '00010'),\n",
    "    #('output/reach-ml1/2020_04_25_13_48_34-l2', 'L2 0.01', 'goal_pos', '00010'),\n",
    "    #$(20, 'L2 0.01 OOD', 'goal_pos', '00010'), # L2 reg on encoder out of dist on reach,\n",
    "    #('output/reach-ml1/2020_05_15_12_07_44-baseline/', 'Baseline', 'goal_pos', '00010'),\n",
    "    ('output/reach-ml1/2020_05_15_12_08_37-l2', 'L2', 'goal_pos', '00010'),\n",
    "    ('output/reach-ml1/2020_05_15_12_09_16-latent15', 'Latent 15', 'goal_pos', '00010'),\n",
    "]"
   ]
  },
  {
   "cell_type": "code",
   "execution_count": 44,
   "metadata": {
    "tags": [
     "outputPrepend"
    ]
   },
   "outputs": [],
   "source": [
    "for experiment_path, experiment_name, task_param, adapt_index in results:\n",
    "    embeddings = []\n",
    "    for filename in os.listdir(experiment_path):\n",
    "        if 'embeddings_' in filename:\n",
    "            embeddings.append(os.path.join(experiment_path, filename))\n",
    "    embeddings.sort(key=lambda x: float(x.split('_')[-1].split('.')[0]))\n",
    "\n",
    "    frames = []\n",
    "    xrange = [1000000, -1000000]\n",
    "    yrange = [1000000, -1000000]\n",
    "    for embedding in embeddings:\n",
    "        file = open(embedding, 'rb')\n",
    "        data = pickle.load(file) # {'embeddings', 'labels', 'tasks', 'num_train_tasks', 'epoch'}\n",
    "        # [train + eval tasks, evals, rollouts, embeddings] -> [tasks+evals+rollouts, embedding]\n",
    "        data['embeddings'] = np.transpose(data['embeddings'], (2, 0, 1, 3))\n",
    "        data['embeddings'] = np.reshape(data['embeddings'], (\n",
    "            data['embeddings'].shape[0], # rollouts\n",
    "            -1, # stack all eval embeddings, task over task\n",
    "            data['embeddings'].shape[3], # embedding dimension\n",
    "        ))\n",
    "        embeddings = embeddings_pca(data['embeddings'][-1], n_components=2)\n",
    "        data['embeddings'] = embeddings\n",
    "        frames.append(data)\n",
    "\n",
    "        xrange = [\n",
    "            np.min([ xrange[0], np.min(embeddings[:, 0]) ]),\n",
    "            np.max([ xrange[1], np.max(embeddings[:, 0]) ])\n",
    "        ]\n",
    "        yrange = [\n",
    "            np.min([ yrange[0], np.min(embeddings[:, 1]) ]),\n",
    "            np.max([ yrange[1], np.max(embeddings[:, 1]) ])\n",
    "        ]\n",
    "\n",
    "    for frame in frames:\n",
    "        plott(\n",
    "            frame['embeddings'], \n",
    "            frame['labels'], \n",
    "            title=experiment_name + ' epoch {}'.format(frame['epoch']), \n",
    "            task_param=task_param, \n",
    "            show_labels=False,\n",
    "            n_components=2,\n",
    "            #xrange=xrange,\n",
    "            #yrange=yrange\n",
    "        )"
   ]
  }
 ],
 "metadata": {
  "kernelspec": {
   "display_name": "Python 3.6.9 64-bit ('rl': conda)",
   "language": "python",
   "name": "python36964bitrlconda118b18de538d4e91aec0aaa4e288196a"
  },
  "language_info": {
   "codemirror_mode": {
    "name": "ipython",
    "version": 3
   },
   "file_extension": ".py",
   "mimetype": "text/x-python",
   "name": "python",
   "nbconvert_exporter": "python",
   "pygments_lexer": "ipython3",
   "version": "3.6.9-final"
  }
 },
 "nbformat": 4,
 "nbformat_minor": 4
}